{
 "cells": [
  {
   "cell_type": "markdown",
   "id": "11478a26",
   "metadata": {},
   "source": [
    "# Endogenous entrepreneurship and financial frictions"
   ]
  },
  {
   "cell_type": "markdown",
   "id": "e19dacf5",
   "metadata": {},
   "source": [
    "This notebook solves a model of endogenous entrepreneurship with financial frictions."
   ]
  },
  {
   "cell_type": "markdown",
   "id": "b6f4829f",
   "metadata": {},
   "source": [
    "## The model"
   ]
  },
  {
   "cell_type": "markdown",
   "id": "99876b06",
   "metadata": {},
   "source": [
    "### Set up\n",
    "\n",
    "* There is a continuum of individuals who differ in their wealth $a$ and entrepreneurial ability $z$.\n",
    "\n",
    "* Each period, every individual chooses to be a Worker or an Entrepreneur.\n",
    "\n",
    "* Entrepreneurs are subject to a collateral constraint.\n",
    "\n",
    "* Entrepreneurial ability $z$ is drawn from a Pareto distribution with pdf $\\mu\\left(z\\right)=\\eta z^{-\\eta-1},z\\ge1$. Entrepreneurial ability is persistent: each period a new $z$ is drawn with a probability $\\gamma$.\n",
    "\n",
    "* Financial intermediaries collect deposits and rent out capital to entrepreneurs at rate R, by no arbitrage then $R=r+\\delta$ with $r$ the deposit rate.\n",
    "\n",
    "* There is a representative public firm.\n",
    "\n",
    "* The government taxes entrepreneurial profits and revenues at rates $\\tau^{\\pi}$ and $\\tau^{y}$ a and rebates all the receipts with lump-sum payments $T_{t}$."
   ]
  },
  {
   "cell_type": "markdown",
   "id": "2daf41c5",
   "metadata": {},
   "source": [
    "### Individuals' problem\n",
    "\n",
    "* Individuals have CRRA preferences over consumption \n",
    "$$\n",
    "\\max\\mathbb{E}_{0}\\sum_{t=0}^{\\infty}\\beta^{t}\\frac{c_{t}^{1-\\sigma}-1}{1-\\sigma},\n",
    "$$\n",
    "with inverse elasticity of intertemporal substitution $\\sigma$.\n",
    "\n",
    "* The budget constraint is \n",
    "$$\n",
    "c_{t}+a_{t+1}\\le\\max\\left\\{ w_{t},\\pi\\left(z_{t},a_{t}\\right)\\right\\} +\\left(1+r_{t}\\right)a_{t}+T_{t},\n",
    "$$\n",
    "where the $\\max$ operator encompasses the binary occupation choice .\n",
    "\n",
    "* Profits from operating the production technology are given by\n",
    "\\begin{align*}\n",
    "\\pi\\left(z_{t},a_{t}\\right)\t&=\t\\max_{l_{t},k_{t}}\\left\\{ \\left(1-\\tau_{t}^{\\pi}\\right)\\left[\\left(1-\\tau_{t}^{y}\\right)z_{t}Z_{t}\\left(k_{t}^{\\alpha}l_{t}^{1-\\alpha}\\right)^{1-\\nu}-w_{t}l_{t}-\\left(\\delta+r_{t}\\right)k_{t}\\right]\\right\\}, \\\\\n",
    "\\text{s.t.}\t\t\\quad &k_{t}\\le\\lambda a_{t}.\n",
    "\\end{align*}\n",
    "\n",
    "* Hence individuals at productivity $z_{t}$ choose to become entrepreneurs if their wealth exceeds the threshold value $\\bar{a}\\left(z_{t}\\right)$ that solves\n",
    "$$\n",
    "w_{t}=\\pi\\left(z_{t},\\bar{a}\\left(z_{t}\\right)\\right).\n",
    "$$\n",
    "\n",
    "* The technology operated by individual entrepreneurs features decreasing returns to scale\n",
    "$$\n",
    "y_{t}=f\\left(z,k,l\\right)=zZ_{t}\\left(k^{\\alpha}l^{1-\\alpha}\\right)^{1-\\nu},\n",
    "$$\n",
    "with $Z_{t}$ aggregate TFP shocks.\n"
   ]
  },
  {
   "cell_type": "markdown",
   "id": "236c6d25",
   "metadata": {},
   "source": [
    "### Public firm\n",
    "\n",
    "* A representative public firm operates the CRS technology\n",
    "$$\n",
    "F\\left(K_{ct},L_{ct}\\right)=Z_{t}Z_{ct}K_{ct}^{\\alpha}L_{ct}^{1-\\alpha}.\n",
    "$$\n",
    "\n",
    "* From FOCs:\n",
    "\\begin{align*}\n",
    "r_{t}\t&=\tF_{K}\\left(K_{ct},L_{ct}\\right)-\\delta =\t\\alpha Z_{t}Z_{ct}\\left(\\frac{K_{ct}}{L_{ct}}\\right)^{\\alpha-1}-\\delta, \\\\\n",
    "    w_{t}\t&=\tF_{L}\\left(Z_{ct},K_{ct},L_{ct}\\right) =\t\\left(1-\\alpha\\right)Z_{t}Z_{ct}\\left(\\frac{K_{ct}}{L_{ct}}\\right)^{\\alpha},\n",
    "\\end{align*}\n",
    "and so capital-labor ratio\n",
    "$$\n",
    "\\frac{K_{ct}}{L_{ct}} =\t\\left(\\frac{\\alpha Z_{t}Z_{ct}}{r_{t}+\\delta}\\right)^{\\frac{1}{1-\\alpha}}.\n",
    "$$"
   ]
  },
  {
   "cell_type": "markdown",
   "id": "040a1ce5",
   "metadata": {},
   "source": [
    "### Equilibrium\n",
    "\n",
    "Given an initial distribution $D_{0}\\left(z,a\\right)$, a competitive equilibrium is allocations $\\{ c_{t}\\left(z_{t},a_{t}\\right)$,$a_{t+1}\\left(z_{t},a_{t}\\right)$,$l_{t}\\left(z_{t},a_{t}\\right)$,$k_{t}\\left(z_{t},a_{t}\\right)\\}$ , distributions $D_{t}\\left(z_{t},a_{t}\\right)$ , and prices $\\{ w_{t}$,$r_{t}\\}$  such that\n",
    "\n",
    "1. Given prices, the policy functions solve the individuals' problem.\n",
    "\n",
    "2. Labor market clears:\n",
    "$$\n",
    "L_{ct}+\\int_{E}l_{t}\\left(z,a\\right)dD_{t}\\left(a,z\\right)-\\int_{W}dD_{t}\\left(a,z\\right)=0.\n",
    "$$\n",
    "\n",
    "3. Asset market clears:\n",
    "$$\n",
    "K_{ct}+\\int_{E}k_{t}\\left(z,a\\right)dD_{t}\\left(a,z\\right)-\\int aD_{t}\\left(a,z\\right)=0.\n",
    "$$\n",
    "\n",
    "4. Goods market clears (by Walras's Law).\n",
    "\n",
    "5. The government's budget is balanced\n",
    "$$\n",
    "T_{t}=\\int_{E}\\left[\\left(\\tau_{t}^{\\pi}+\\tau_{t}-\\tau_{t}^{\\pi}\\tau_{t}\\right)y_{t}\\left(z,k,l\\right)-\\tau_{t}^{\\pi}\\left(w_{t}l_{t}\\left(z,a\\right)+\\left(\\delta+r_{t}\\right)k_{t}\\left(z,a\\right)\\right)\\right]dD_{t}\\left(a,z\\right).\n",
    "$$\n",
    "\n",
    "6. The joint distribution evolves according to\n",
    "\\begin{align*}\n",
    "D_{t+1}^{E}\\left(a_{t+1},z_{t+1}\\right)\t&=\t\\gamma D_{t}^{E}\\left(a_{t+1}^{-1}\\left(z_{t},a_{t}\\right),z_{t}\\right)+\\left(1-\\gamma\\right)\\int_{z}D_{t}^{E}\\left(a_{t+1}^{-1}\\left(z_{t},a_{t}\\right),z_{t}\\right),\\\\\n",
    "\t&=\t\\left[\\gamma I+\\left(1-\\gamma\\right)\\Pi\\right]D_{t}^{E}\\left(a_{t+1}^{-1}\\left(z_{t},a_{t}\\right),z_{t}\\right),\n",
    "\\end{align*}\n",
    "where $\\Pi=\\left[\\begin{array}{c}\n",
    "\\pi_{z}\\\\\n",
    "\\pi_{z}\\\\\n",
    "\\ldots\n",
    "\\end{array}\\right]$."
   ]
  },
  {
   "cell_type": "markdown",
   "id": "06c5e36d",
   "metadata": {},
   "source": [
    "## Solving the model"
   ]
  },
  {
   "cell_type": "code",
   "execution_count": 1,
   "id": "dcae2cc6",
   "metadata": {},
   "outputs": [],
   "source": [
    "import numpy as np\n",
    "import matplotlib.pyplot as plt\n",
    "from scipy.optimize import brentq\n",
    "from household import get_coh, agrid, pareto_discrete\n",
    "from aux import interpolate_y, invdist"
   ]
  },
  {
   "cell_type": "markdown",
   "id": "3ae37ebb",
   "metadata": {},
   "source": [
    "### A. Solving for entrepreneurial profits\n",
    "\n",
    "The indirect profit function is\n",
    "\\begin{align*}\n",
    "\\pi\\left(z_{t},a_{t}\\right)\t&=\t\\max_{l_{t},k_{t}}\\left\\{ \\left(1-\\tau_{t}^{\\pi}\\right)\\left[\\left(1-\\tau_{t}^{y}\\right)z_{t}Z_{t}\\left(k_{t}^{\\alpha}l_{t}^{1-\\alpha}\\right)^{1-\\nu}-w_{t}l_{t}-\\left(\\delta+r_{t}\\right)k_{t}\\right]\\right\\}, \\\\\n",
    "\\text{s.t.}\t\t\\quad &k_{t}\\le\\lambda a_{t}.\n",
    "\\end{align*}\n",
    "\n",
    "1. If the collateral constraint does not bind, profit maximization implies\n",
    "$$\n",
    "k^{u}\\left(z_{t}\\right)\t=\t\\left[\\left(1-\\tau_{t}^{y}\\right)z_{t}Z_{t}\\right]^{\\frac{1}{\\nu}}\\left(\\frac{\\alpha\\left(1-\\nu\\right)}{r_{t}+\\delta}\\right)^{\\frac{1-\\left(1-\\alpha\\right)\\left(1-\\nu\\right)}{\\nu}}\\left(\\frac{\\left(1-\\alpha\\right)\\left(1-\\nu\\right)}{w_{t}}\\right)^{\\frac{\\left(1-\\alpha\\right)\\left(1-\\nu\\right)}{\\nu}}.\n",
    "$$\n",
    "\n",
    "2. If the collateral constraint binds (with $\\theta$ the Lagrange multiplier)\n",
    "$$\n",
    "k^{c}\\left(a_{t}\\right)\t=\t\\lambda a_{t}.\n",
    "$$\n",
    "\n",
    "Hence the capital policy function is\n",
    "$$\n",
    "k\\left(z_{t},a_{t}\\right)=\\min\\left\\{ k^{c}\\left(a_{t}\\right),k^{u}\\left(z_{t}\\right)\\right\\} .\n",
    "$$\n",
    "and the labor policy function is \n",
    "$$\n",
    "l\\left(z_{t},a_{t}\\right)=\\left(\\frac{\\left(1-\\alpha\\right)\\left(1-\\nu\\right)\\left(1-\\tau_{t}^{y}\\right)z_{t}Z_{t}}{w_{t}}\\right)^{\\frac{1}{1-\\left(1-\\alpha\\right)\\left(1-\\nu\\right)}}k\\left(z_{t},a_{t}\\right)^{\\frac{\\alpha\\left(1-\\nu\\right)}{1-\\left(1-\\alpha\\right)\\left(1-\\nu\\right)}}.\n",
    "$$\n",
    "and the indirect profit function is given by \n",
    "$$\n",
    "\\pi\\left(z_{t},a_{t}\\right)=\\left(1-\\tau_{t}^{\\pi}\\right)\\left[\\left(1-\\tau_{t}^{y}\\right)z_{t}Z_{t}\\left(k\\left(z_{t},a_{t}\\right)^{\\alpha}l\\left(z_{t},a_{t}\\right)^{1-\\alpha}\\right)^{1-\\nu}-w_{t}l\\left(z_{t},a_{t}\\right)-\\left(\\delta+r_{t}\\right)k\\left(z_{t},a_{t}\\right)\\right].\n",
    "$$\n",
    "Note that the tax on profits $\\tau_{t}^{\\pi}$ does not affect the optimal policies, while the tax on revenue $\\tau_{t}^{y}$ does."
   ]
  },
  {
   "cell_type": "markdown",
   "id": "68956609",
   "metadata": {},
   "source": [
    "Indirect profit function:"
   ]
  },
  {
   "cell_type": "code",
   "execution_count": 2,
   "id": "2ae36b0a",
   "metadata": {},
   "outputs": [],
   "source": [
    "def profit_pol(a, z, r, w, lam, delta, alpha, nu, tau_pi, tau_y, Z_e, Z):\n",
    "    \"\"\"Solve for the indirect profit function given asset and producitivty grids and parameters.\"\"\"\n",
    "\n",
    "    # capital policy: unconstrained\n",
    "    k_d_unconst = np.maximum(\n",
    "        0, ((1 - tau_y) * z * Z_e * Z) ** (1 / nu) *\n",
    "           (alpha * (1 - nu) / (r + delta)) ** ((1 - (1 - alpha) * (1 - nu)) / nu) *\n",
    "           ((1 - alpha) * (1 - nu) / w) ** ((1 - alpha) * (1 - nu) / nu))\n",
    "\n",
    "    if lam < np.inf:\n",
    "        # capital policy: constrained\n",
    "        k_d_const = np.maximum(0, lam * a)\n",
    "        # index of unconstrained states (z_grid,a) where optimal k <= lambda*a\n",
    "        unconst = (k_d_unconst[:, np.newaxis] <= k_d_const).astype(float)\n",
    "        # overall capital policy\n",
    "        k_d = np.minimum(k_d_const, k_d_unconst[:, np.newaxis])\n",
    "    else:\n",
    "        unconst = np.ones((len(z), len(a)))\n",
    "        k_d = np.ones((len(z), len(a))) * k_d_unconst[:, np.newaxis]  # if no constraint\n",
    "\n",
    "    if isinstance(r, float) or isinstance(r, int):\n",
    "        if any(1-unconst[:, -1]):\n",
    "            raise ValueError(f'Upper bound of asset grid {a[-1]:.2f} is not large enough!')\n",
    "    else:\n",
    "        if any(1-unconst[:, :, -1].ravel()):\n",
    "            raise ValueError(f'Upper bound of asset grid {a[-1]:.2f} is not large enough!')\n",
    "\n",
    "    # overall labor policy\n",
    "    l_d = (((1 - alpha) * (1 - nu) * (1 - tau_y) * z * Z_e * Z / w) ** (1 / (1 - (1 - alpha) * (1 - nu))))[:,\n",
    "            np.newaxis] * (k_d) ** (alpha * (1 - nu) / (1 - (1 - alpha) * (1 - nu)))\n",
    "\n",
    "    # overall output and indirect profit function\n",
    "    y_e = z[:, np.newaxis] * Z_e * Z * (k_d) ** (alpha * (1 - nu)) * (l_d) ** ((1 - alpha) * (1 - nu))\n",
    "    pi = (1 - tau_pi) * ((1 - tau_y) * y_e - (r + delta) * k_d - w * l_d)\n",
    "\n",
    "    # occupational choice (1: entrepreneur, 0: worker)\n",
    "    entrep = (pi >= w).astype(float)\n",
    "\n",
    "    return entrep*pi, entrep*k_d, entrep*l_d, unconst, entrep*y_e, entrep"
   ]
  },
  {
   "cell_type": "markdown",
   "id": "b8d0b032",
   "metadata": {},
   "source": [
    "Compute marginal profits $\\frac{\\partial \\pi(a,z)}{\\partial a}$"
   ]
  },
  {
   "cell_type": "code",
   "execution_count": 3,
   "id": "ad5c7d8c",
   "metadata": {},
   "outputs": [],
   "source": [
    "def d_profit(a, z, r, w, lam, delta, alpha, nu, tau_pi, tau_y, Z_e, Z, da=1e-5):\n",
    "    \"\"\"Returns numerical derivative of profits wrt assets.\"\"\"\n",
    "    \n",
    "    a_scaled = a + (a == 0) * a[1] * 1e-1\n",
    "    profit_up, _, _, _, _, _ = profit_pol(\n",
    "        a_scaled + da, z, r, w, lam, delta, alpha, nu, tau_pi, tau_y, Z_e, Z)\n",
    "    profit_down, _, _, _, _, _ = profit_pol(\n",
    "        a_scaled - da, z, r, w, lam, delta, alpha, nu, tau_pi, tau_y, Z_e, Z)\n",
    "    return (profit_up - profit_down) / (2 * da)"
   ]
  },
  {
   "cell_type": "markdown",
   "id": "f016b3fe",
   "metadata": {},
   "source": [
    "Return all production outputs from the primitives:"
   ]
  },
  {
   "cell_type": "code",
   "execution_count": 4,
   "id": "d6c3e2b5",
   "metadata": {},
   "outputs": [],
   "source": [
    "def prod(a_grid, z_grid, r, w, lam, delta, alpha, nu, tau_pi, tau_y, Z_e, Z, theta):\n",
    "    \"\"\"Returns all production outcomes given grids and parameters.\"\"\"\n",
    "    \n",
    "    # Get profits and policies\n",
    "    pi, k_d, l_d, unconst, y_e, entrep = profit_pol(\n",
    "        a_grid, z_grid, r, w, lam, delta, alpha, nu, tau_pi, tau_y, Z_e, Z)\n",
    "    # marginal profit: dpi/da\n",
    "    dpi = d_profit(a_grid, z_grid, r, w, lam, delta, alpha, nu, tau_pi, tau_y, Z_e, Z)\n",
    "    # labor supply\n",
    "    l_w = (1 - entrep) * z_grid[:, np.newaxis] ** theta\n",
    "    # effective return: r + dpi/da\n",
    "    reff = r + entrep * dpi\n",
    "\n",
    "    return pi, k_d, l_d, unconst, entrep, dpi, y_e, l_w, reff"
   ]
  },
  {
   "cell_type": "markdown",
   "id": "3fb5f3b0",
   "metadata": {},
   "source": [
    "Simple helper functions used later."
   ]
  },
  {
   "cell_type": "code",
   "execution_count": 5,
   "id": "65780cfd",
   "metadata": {},
   "outputs": [],
   "source": [
    "def KL_from_r(r, alpha, delta, Z_c, Z):\n",
    "    \"\"\"Computes K/L ratio in public sector from interest rate\"\"\"\n",
    "    return (alpha * Z * Z_c / (r + delta)) ** (1 / (1 - alpha))\n",
    "\n",
    "def w_from_KL(KL, alpha, Z_c, Z):\n",
    "    \"\"\"Computes wage from K/L ratio in public sector\"\"\"\n",
    "    return (1 - alpha) * Z_c * Z * (KL) ** (alpha)\n",
    "\n",
    "def w_from_r(r, alpha, delta, Z_c, Z):\n",
    "    \"\"\"Computes wage rate from interest rate\"\"\"\n",
    "    return (1 - alpha) * Z_c * Z * (alpha * Z * Z_c / (r + delta)) ** (alpha / (1 - alpha))"
   ]
  },
  {
   "cell_type": "markdown",
   "id": "4700bcd1",
   "metadata": {},
   "source": [
    "### B. Solving the individuals' problem\n",
    "\n",
    "We can write the Bellman as\n",
    "\\begin{align*}\n",
    "v_{t}\\left(a_{t},z_{t}\\right)\t&=\t\\max_{c_{t},a_{t+1}}\\left\\{ u\\left(c_{t}\\right)+\\beta\\left[\\gamma v_{t+1}\\left(a_{t+1},z_{t}\\right)+\\left(1-\\gamma\\right)\\int v_{t+1}\\left(a_{t+1},z_{t+1}\\right)\\mu\\left(z_{t+1}\\right)dz_{t+1}\\right]\\right\\}, \\\\\n",
    "\\text{s.t.}\t\\quad &\tc_{t}+a_{t+1}=M\\left(a_{t+1},z_{t}\\right)+\\left(1+r_{t}\\right)a_{t}+T_{t},\n",
    "\\end{align*}\n",
    "where $M\\left(a_{t+1},z_{t}\\right)=\\max\\left\\{ w_{t},\\pi\\left(z_{t},a_{t}\\right)\\right\\}$ and the Euler equation is \n",
    "\\begin{align*}\n",
    "u'\\left(c_{t}\\left(z_{t},a_{t}\\right)\\right)=&\\beta\\bigg[\\gamma\\left(1+r_{t+1}^{eff}\\left(z_{t},a_{t+1},d_{t+1}\\right)\\right)u'\\left(c_{t+1}\\left(z_{t},a_{t+1}\\right)\\right),\\\\\n",
    "&\\quad+\\left(1-\\gamma\\right)\\int\\left(1+r_{t+1}^{eff}\\left(z_{t+1},a_{t+1},d_{t+1}\\right)\\right)u'\\left(c_{t+1}\\left(z_{t+1},a_{t+1}\\right)\\right)\\mu\\left(z_{t+1}\\right)dz_{t+1}\\bigg],\n",
    "\\end{align*}\n",
    "where the net effective return is defined as \n",
    "$$\n",
    "r_{t}^{eff}\\left(z_{t},a_{t}\\right)=\\begin{cases}\n",
    "r_{t} & \\text{if Worker},\\\\\n",
    "r_{t}+\\frac{\\partial\\pi\\left(z_{t},a_{t}\\right)}{\\partial a_{t}} & \\text{if Entrepreneur},\n",
    "\\end{cases} \n",
    "$$\n",
    "where\n",
    "$$\\frac{\\partial\\pi\\left(z_{t},a_{t}\\right)}{\\partial a_{t}}=\\begin{cases}\n",
    "\\frac{\\partial\\pi^{const}\\left(z_{t},a_{t}\\right)}{\\partial a_{t}} & \\text{if constrained Entrepreneur},\\\\\n",
    "0 & \\text{if unconstrained Entrepreneur}.\n",
    "\\end{cases}\n",
    "$$\n",
    "\n",
    "**Obtaining policies.**\n",
    "* Inputs: prices $\\left\\{ w_{t},r_{t}\\right\\}$ , government policy $\\left\\{ \\tau_{t}^{\\pi},T_{t}\\right\\}$  and consumption on next period's asset grid $c_{t+1}\\left(z_{t+1},a_{t+1}\\right)$.\n",
    "\n",
    "* Calculate income $M\\left(a_{t+1},z_{t}\\right)$ on the grids for $a$ and $z$ from the indirect profit function.\n",
    "\n",
    "* Calculate next period's cash-on-hand on the grids for $a$ and $z$ \n",
    "$$\n",
    "coh\\left(z_{t+1},a_{t+1}\\right)\t=\tM\\left(z_{t+1},a_{t+1}\\right)+\\left(1+r_{t}\\right)a_{t+1}+T_{t}.\n",
    "$$\n",
    "\n",
    "* Compute the RHS of the Euler equation \n",
    "\\begin{align*}\n",
    "RHS\\left(a_{t+1},z_{t}\\right)\t&=\t\\beta\\bigg[\\gamma\\bigg\\{\\left(1+r_{t+1}^{eff}\\left(z_{t},a_{t+1}\\right)\\right)u'\\left(c_{t+1}\\left(z_{t},a_{t+1}\\right)\\right)\\\\\n",
    "\t\t&\\quad+\\left(1-\\gamma\\right)\\int\\bigg\\{\\left(1+r_{t+1}^{eff}\\left(z_{t+1},a_{t+1}\\right)\\right)u'\\left(c_{t+1}\\left(z_{t+1},a_{t+1}\\right)\\right)\\bigg\\}\\mu\\left(z_{t+1}\\right)dz_{t+1}\\bigg],\n",
    "\\end{align*}\n",
    "and invert to get current consumption \n",
    "$$\n",
    "c\\left(a_{t+1},z_{t}\\right)=u^{-1}\\left(RHS\\left(a_{t+1},z_{t}\\right)\\right).\n",
    "$$\n",
    "\n",
    "* Calculate the asset policy functions with the mapping from assets today \n",
    "$$\n",
    "a_{t}=\\frac{c_{t}\\left(a_{t+1},z_{t}\\right)+a_{t+1}-M\\left(a_{t+1},z_{t}\\right)-T_{t}}{1+r_{t}} ,\n",
    "$$\n",
    "to assets tomorrow $a_{t+1}$ that we can invert by interpolation to get the policy function $a_{t+1}\\left(a_{t},z_{t}\\right)$.\n",
    "\n",
    "* Enforce the borrowing constraint, ie enforce $a_{t+1}\\left(a_{t},z_{t}\\right)\\ge0$.\n",
    "\n",
    "* Compute the consumption policy functions as\n",
    "$$\n",
    "c_{t}\\left(a_{t},z_{t}\\right)=coh\\left(z_{t},a_{t}\\right)-a_{t+1}\\left(a_{t},z_{t}\\right),\n",
    "$$\n",
    "and if $c_{t}\\left(a_{t},z_{t}\\right)<0$, set $c_{t}\\left(a_{t},z_{t}\\right)=0$ and $a_{t+1}\\left(a_{t},z_{t}\\right)=coh\\left(z_{t},a_{t}\\right)$.\n",
    "\n",
    "\n",
    "**Obtaining the distribution.**\n",
    "\n",
    "* Given a distribution at $t$, the distribution at $t+1$ is obtained as \n",
    "$$\n",
    "D_{t+1}\\left(a_{t+1},z_{t+1}\\right)=\\gamma D_{t}\\left(a_{t+1}^{-1}\\left(z_{t},a_{t};w,r\\right),z_{t}\\right)+\\left(1-\\gamma\\right)\\sum_{\\hat{z}\\in\\mathcal{Z}}\\mu\\left(\\hat{z}\\right)D_{t}\\left(a_{t+1}^{-1}\\left(\\hat{z},a_{t};w,r\\right),\\hat{z}\\right),\n",
    "$$\n",
    "and the stationary distribution is obtained by iterating until convergence.\n",
    "\n",
    "* In matrix form, we stack the vector $\\mu\\left(z\\right)$ in a matrix $\\Pi$ and we can do\n",
    "$$\n",
    "D_{t+1}\\left(a_{t+1},z_{t+1}\\right)=\\left(\\gamma I+\\left(1-\\gamma\\right)\\Pi\\right)D_{t}\\left(a_{t+1}^{-1}\\left(z_{t},a_{t};w,r\\right),z_{t+1}\\right).\n",
    "$$"
   ]
  },
  {
   "cell_type": "markdown",
   "id": "62bed827",
   "metadata": {},
   "source": [
    "Backward iteration function:"
   ]
  },
  {
   "cell_type": "code",
   "execution_count": 6,
   "id": "cc7645f0",
   "metadata": {},
   "outputs": [],
   "source": [
    "def household_backward(Va_p, a_grid, z_grid, theta, Pi_p, w, r, reff, Tr, beta, eis, pi, entrep):\n",
    "    \"\"\"Backward iteration step of the household problem: get consumption today from consumotion\n",
    "    tomorrow using endogenous grid point.\"\"\"\n",
    "\n",
    "    # marginal utility from next period value on next peridod's asset grid\n",
    "    uc_nextgrid = (beta * Pi_p) @ Va_p\n",
    "\n",
    "    # consumption today on next peridod's asset grid from Euler equation\n",
    "    c_nextgrid = uc_nextgrid ** (-eis)\n",
    "\n",
    "    # cash-on-hand\n",
    "    coh = get_coh(w, z_grid, theta, pi, r, a_grid, Tr)\n",
    "\n",
    "    # interpolate to get mapping of cash-on-hand in each state to assets next period from budget constraint\n",
    "    a = np.empty_like(coh)\n",
    "    for s in range(coh.shape[0]):\n",
    "        a[s, :] = interpolate_y(c_nextgrid[s, :] + a_grid, coh[s, :], a_grid)\n",
    "\n",
    "    # replace constrained asset choices\n",
    "    a[a < a_grid[0]] = a_grid[0]\n",
    "\n",
    "    # compute consumption\n",
    "    c = coh - a\n",
    "    c[c <= 0], a[c <= 0] = 1e-4, coh[c <= 0]  # enforce positive consumption\n",
    "\n",
    "    # derivative of value function\n",
    "    Va = (1 + reff) * c ** (-1 / eis)\n",
    "\n",
    "    # asset policy of entrepreneurs and workers\n",
    "    ae, aw = a * entrep, a * (1 - entrep)\n",
    "\n",
    "    return Va, a, ae, aw, c"
   ]
  },
  {
   "cell_type": "markdown",
   "id": "0244489d",
   "metadata": {},
   "source": [
    "Given prices $(r,w)$ and transfers $T$, finf Partial Equilibrium (PE) outcomes: iterate backwards to obtain policies, and iterate foward to obtain distribution."
   ]
  },
  {
   "cell_type": "code",
   "execution_count": 7,
   "id": "6df4b6fb",
   "metadata": {},
   "outputs": [],
   "source": [
    "def pe_ss(Va_old, r, w, Tr, Pi, beta, eis, a_grid, z_grid, lam, delta, alpha, nu, tau_pi,\n",
    "          tau_y, Z_e, Z, theta, maxit=5000, atol=1E-8):\n",
    "    \"\"\"Given prices, iterates backward to get steady-state policy rule using household_backward()\n",
    "    and iterates forward using invdist() to get steady-state distribution of agents\"\"\"\n",
    "\n",
    "    # production outcomes\n",
    "    pi, k_d, l_d, unconst, entrep, dpi, y_e, l_w, reff = prod(\n",
    "        a_grid, z_grid, r, w, lam, delta, alpha, nu, tau_pi, tau_y, Z_e, Z, theta)\n",
    "\n",
    "    # backward iteration loop  to obtain policies\n",
    "    for it in range(maxit):\n",
    "        Va, a, ae, aw, c = household_backward(\n",
    "            Va_old, a_grid, z_grid, theta, Pi, w, r, reff, Tr, beta, eis, pi, entrep)\n",
    "        if it % 10 == 0 and np.max(np.abs(Va - Va_old)) < atol:\n",
    "            break\n",
    "        Va_old = Va\n",
    "    assert it < maxit - 1, 'never converged after %d iterations!' % maxit\n",
    "\n",
    "    # forward iteration loop to obtain distributions\n",
    "    Dst = invdist(a_grid, a, Pi)\n",
    "\n",
    "    return {'Va': Va, 'a': a, 'c': c, 'Dst': Dst, 'entrep': entrep, 'theta': theta,\n",
    "            'K_D': np.sum(Dst * k_d), 'L_D': np.sum(Dst * l_d), 'L_W': np.sum(Dst * l_w),\n",
    "            'A': np.sum(Dst * a), 'C': np.sum(Dst * c), 'Y_E': np.sum(Dst * y_e),\n",
    "            'AW': np.sum(Dst * aw), 'AE': np.sum(Dst * ae), 'ENTREP': np.sum(Dst * entrep)}"
   ]
  },
  {
   "cell_type": "markdown",
   "id": "56145fff",
   "metadata": {},
   "source": [
    "### C. Algorithm to solve for the general equilibrium\n",
    "\n",
    "1. Fix grid for states $a$ and $z$\n",
    "\n",
    "2. Set a guess for the interest rate $r$\n",
    "\n",
    "3. Given $r$, use the public sector to find $w$\n",
    "\n",
    "4. Given prices $(r,w)$, and a guess for $T$, find the individuls' policy functions\n",
    "\n",
    "5. Given policies, find the stationary distribution\n",
    "\n",
    "6. Compute the implied transfers $T$ and if not close, use the updated $T$ and go back to step 4.\n",
    "\n",
    "7. Aggregate policies and distributions to find assets and savings of the private sector and back out $K_{c}$ from asset market clearing condition\n",
    "\n",
    "8. Compute error in labor market and update $r$ until convergence.\n"
   ]
  },
  {
   "cell_type": "markdown",
   "id": "29d3cb1f",
   "metadata": {},
   "source": [
    "Given prices $(r,w)$, solve for transfers $T$:"
   ]
  },
  {
   "cell_type": "code",
   "execution_count": 8,
   "id": "a9957c13",
   "metadata": {},
   "outputs": [],
   "source": [
    "def solve_T(w, r, a_grid, z_grid, theta, Pi, beta, eis, lam, delta, alpha, nu, tau_pi, tau_y, Z_e, Z,\n",
    "            Tr=.0, atol=1e-4, noisy=False, maxit=50):\n",
    "    \"\"\"Solves the fixed point for government transfers such that government budget constraint holds.\"\"\"\n",
    "    pi, _, _, _, _, _, _, _, reff = prod(\n",
    "        a_grid, z_grid, r, w, lam, delta, alpha, nu, tau_pi, tau_y, Z_e, Z, theta)\n",
    "    Va = (1 + reff) * np.maximum(1E-8, get_coh(w, z_grid, theta, pi, r, a_grid, Tr) - a_grid) ** (-1 / eis)\n",
    "    if (tau_pi == 0.) & (tau_y == 0.):\n",
    "        # if no taxes are set, return PE outcomes\n",
    "        ss = pe_ss(Va, r, w, Tr, Pi, beta, eis, a_grid, z_grid, lam, delta, alpha, nu, tau_pi, tau_y, Z_e, Z, theta)\n",
    "    else:\n",
    "        for it in range(maxit):\n",
    "            # get PE outcomes\n",
    "            ss = pe_ss(Va, r, w, Tr, Pi, beta, eis, a_grid, z_grid, lam, delta, alpha, nu, tau_pi, tau_y, Z_e, Z, theta)\n",
    "            # compute transfers consistent with government revenue\n",
    "            Tr_new = (tau_pi + tau_y - tau_pi*tau_y) * ss['Y_E'] - tau_pi * ((r + delta) * ss['K_D'] + w * ss['L_D'])\n",
    "            if np.max(np.abs(Tr_new - Tr)) < atol:\n",
    "                break\n",
    "            if noisy:\n",
    "                print(f'    Tr = {Tr:.6f},  error = {np.max(np.abs(Tr_new - Tr)):.6f}')\n",
    "            Tr = Tr_new\n",
    "        assert it < maxit - 1, 'lump-sum transfers never converged after %d iterations!' % maxit\n",
    "\n",
    "    return ss"
   ]
  },
  {
   "cell_type": "markdown",
   "id": "fbae3423",
   "metadata": {},
   "source": [
    "Return error in labor market clearing condition at given interst rate:"
   ]
  },
  {
   "cell_type": "code",
   "execution_count": 9,
   "id": "d5b5c741",
   "metadata": {},
   "outputs": [],
   "source": [
    "def labor_market_err(r, a_grid, z_grid, theta, Pi, beta, eis, lam, delta, alpha, nu, tau_pi,\n",
    "                     tau_y, Z_c, Z_e, Z, Tr, atol=1e-4, noisy=False):\n",
    "    \"\"\"Return excess labor demand at given interest rate\"\"\"\n",
    "\n",
    "    KL_c = KL_from_r(r, alpha, delta, Z_c, Z)  # K/L ratio in public sector from r\n",
    "    w = w_from_KL(KL_c, alpha, Z_c, Z)  # wage from K/L in public sector\n",
    "\n",
    "    # compute steady-state\n",
    "    ss = solve_T(w, r, a_grid, z_grid, theta, Pi, beta, eis, lam, delta, alpha, nu, tau_pi, tau_y, Z_e, Z,\n",
    "                 Tr=Tr, atol=atol, noisy=noisy)\n",
    "\n",
    "    K_c = np.maximum(ss['A'] - ss['K_D'], 1e-7)  # capital in public sector from asset market clearing\n",
    "    L_c = K_c / KL_c  # labor in public sector from K and K/L\n",
    "    err = L_c + ss['L_D'] - ss['L_W']  # return excess labor demand\n",
    "\n",
    "    if noisy: print(f'r = {r:.6f},  error = {err:.6f}')\n",
    "\n",
    "    return err"
   ]
  },
  {
   "cell_type": "markdown",
   "id": "d8a7ebdc",
   "metadata": {},
   "source": [
    "Solve for general equilibrium:"
   ]
  },
  {
   "cell_type": "code",
   "execution_count": 10,
   "id": "5eeabc7a",
   "metadata": {},
   "outputs": [],
   "source": [
    "def ge_ss(beta=.9115, eis=.5, lam=3, delta=.06, alpha=.33, nu=.5, tau_pi=0., tau_y=0., Z_c=1.,\n",
    "          Z_e=1., Z=1., theta=.0, gamma=0.894, N_z=42, eta=4.15, amax=1800, N_a=1300,\n",
    "          Tr=0., atol=1e-4, maxit=50, rl=.08, rh=.09, noisy=True):\n",
    "    \"\"\"Solves for general equilibrium: find interest rate r and transfers Tr such that asset market\n",
    "    clearing condition and governmetn budget constraint hold.\"\"\"\n",
    "\n",
    "    # Productivity grid\n",
    "    z_grid, pi_z = pareto_discrete(eta, N_z)\n",
    "    Pi = gamma * np.eye(len(z_grid)) + (1 - gamma) * np.tile(pi_z, (len(pi_z), 1))\n",
    "\n",
    "    # Asset grid\n",
    "    a_grid = agrid(amax, N_a)  # amax must be big enough\n",
    "\n",
    "    # solve for r\n",
    "    r = brentq(labor_market_err, rl, rh, xtol=atol, maxiter=maxit,\n",
    "               args=(a_grid, z_grid, theta, Pi, beta, eis, lam, delta, alpha, nu,\n",
    "                     tau_pi, tau_y, Z_c, Z_e, Z, Tr, atol, noisy))\n",
    "    w = w_from_r(r, alpha, delta, Z_c, Z)  # wage w at given r\n",
    "\n",
    "    #  steady-state st given prices (r,w)\n",
    "    ss = solve_T(w, r, a_grid, z_grid, theta, Pi, beta, eis, lam, delta, alpha, nu,\n",
    "                 tau_pi, tau_y, Z_e, Z, Tr=Tr, atol=atol, noisy=noisy)\n",
    "\n",
    "    # public sector\n",
    "    ss['K_c'] = np.maximum(ss['A'] - ss['K_D'], 1e-7)  # capital in public sector from asset market clearing\n",
    "    ss['L_c'] = ss['L_W'] - ss['L_D']  # labor in public sector from K and K/L\n",
    "    ss['Y_c'] = Z * Z_c * ss['K_c'] ** alpha * ss['L_c'] ** (1 - alpha)  # output in public sector\n",
    "    ss['KL'] = ss['K_c'] / ss['L_c']\n",
    "\n",
    "    # aggregate output\n",
    "    ss['Y'] = ss['Y_c'] + ss['Y_E']  # aggregate output\n",
    "\n",
    "    return {**ss, 'r': r, 'w': w, 'beta': beta, 'eis': eis, 'lam': lam, 'delta': delta, 'alpha': alpha, 'Pi': Pi,\n",
    "             'nu': nu, 'tau_pi': tau_pi, 'tau_y': tau_y, 'Z_c': Z_c, 'Z_e': Z_e, 'Z': Z, 'amax': amax,\n",
    "            'K': ss['K_c'] + ss['K_D'], 'KY': (ss['K_c'] + ss['K_D'])/ss['Y'], 'a_grid': a_grid, 'z_grid': z_grid,\n",
    "            'AY': ss['A']/ss['Y'], 'AEY': ss['AE']/ss['Y'], 'AWY': ss['AW']/ss['Y']}"
   ]
  },
  {
   "cell_type": "markdown",
   "id": "1ebf660e",
   "metadata": {},
   "source": [
    "Compute steady-state:"
   ]
  },
  {
   "cell_type": "code",
   "execution_count": 11,
   "id": "9de81a22",
   "metadata": {
    "scrolled": false
   },
   "outputs": [
    {
     "name": "stdout",
     "output_type": "stream",
     "text": [
      "r = 0.080000,  error = -0.744410\n",
      "r = 0.090000,  error = 0.068694\n",
      "r = 0.089155,  error = -0.073654\n",
      "r = 0.089592,  error = 0.004934\n",
      "r = 0.089542,  error = -0.002379\n"
     ]
    }
   ],
   "source": [
    "ss = ge_ss()"
   ]
  },
  {
   "cell_type": "markdown",
   "id": "f6c708e7",
   "metadata": {},
   "source": [
    "## Visualize equilibrium"
   ]
  },
  {
   "cell_type": "markdown",
   "id": "d94fcd23",
   "metadata": {},
   "source": [
    "Let's look at the occupational choice. "
   ]
  },
  {
   "cell_type": "code",
   "execution_count": 12,
   "id": "fa443e83",
   "metadata": {},
   "outputs": [
    {
     "data": {
      "image/png": "[encoded data removed]",
      "text/plain": [
       "<Figure size 432x288 with 1 Axes>"
      ]
     },
     "metadata": {
      "needs_background": "light"
     },
     "output_type": "display_data"
    }
   ],
   "source": [
    "max_a_o_pol = 4\n",
    "maxx_o_pol = np.argmin(np.abs(ss['a_grid'] - max_a_o_pol))\n",
    "states_o_pol = [6, 10]\n",
    "labls = ['Low productivity', 'High productivity']\n",
    "\n",
    "for i, s in enumerate(states_o_pol):\n",
    "    plt.plot(ss['a_grid'][:maxx_o_pol], ss['entrep'][s, :maxx_o_pol], label=labls[i])\n",
    "plt.title('Occupational policy'), plt.xlabel('Wealth')\n",
    "plt.yticks([0,1], ['Worker', 'Entrepreneur'])\n",
    "plt.legend()\n",
    "plt.tight_layout()\n",
    "plt.show()"
   ]
  },
  {
   "cell_type": "markdown",
   "id": "f4621e4d",
   "metadata": {},
   "source": [
    "We see that low productivity individuals do not chose to become entrepreneurs at all levels of wealth given the low potential profits they would generate. \n",
    "On the other hand, high productivity individuals, chose to become entrepreneurs at fairly low levels of assets. "
   ]
  },
  {
   "cell_type": "markdown",
   "id": "87867c4b",
   "metadata": {},
   "source": [
    "Let's now look at the wealth distribution."
   ]
  },
  {
   "cell_type": "code",
   "execution_count": 13,
   "id": "96482c75",
   "metadata": {},
   "outputs": [
    {
     "data": {
      "image/png": "[encoded data removed]",
      "text/plain": [
       "<Figure size 432x288 with 1 Axes>"
      ]
     },
     "metadata": {
      "needs_background": "light"
     },
     "output_type": "display_data"
    }
   ],
   "source": [
    "plt.hist(ss['a_grid'], weights=np.sum(ss['Dst'], axis=0) / np.sum(ss['Dst']),\n",
    "         bins=2000, color='gray', alpha=0.5)\n",
    "plt.xlabel('Wealth')\n",
    "plt.xlim(0, 20)\n",
    "plt.title('Stationary Wealth Distribution')\n",
    "plt.tight_layout()\n",
    "plt.show()"
   ]
  },
  {
   "cell_type": "markdown",
   "id": "14570d8e",
   "metadata": {},
   "source": [
    "The endogenous distribution of wealth inherited the properties of the distribution of entrepreneurial skills and hence features a fat tail."
   ]
  },
  {
   "cell_type": "markdown",
   "id": "8eec02a4",
   "metadata": {},
   "source": [
    "Let's visualize the asset market equilibrium."
   ]
  },
  {
   "cell_type": "code",
   "execution_count": 14,
   "id": "5f4eff41",
   "metadata": {},
   "outputs": [],
   "source": [
    "rvec = np.array([.08, .085, .088, .09, .092, .094])\n",
    "VARS = ['A', 'K_D', 'L_D', 'L_W', 'ENTREP']\n",
    "x = {key: np.empty(len(rvec)) for key in VARS + ['K_c', 'L_c']}\n",
    "for i, r_i in enumerate(rvec):\n",
    "    sspe = solve_T(ss['w'], r_i, ss['a_grid'], ss['z_grid'], ss['theta'], ss['Pi'], ss['beta'], ss['eis'], ss['lam'], ss['delta'], ss['alpha'], ss['nu'], ss['tau_pi'], ss['tau_y'], ss['Z_e'], ss['Z'])\n",
    "    for var in VARS:\n",
    "        x[var][i] = sspe[var]\n",
    "for i, r_i in enumerate(rvec):\n",
    "    x['K_c'][i] = KL_from_r(r_i, ss['alpha'], ss['delta'], ss['Z_c'], ss['Z']) * ss['L_c']\n",
    "    x['L_c'][i] = ss['K_c'] / KL_from_r(r_i, ss['alpha'], ss['delta'], ss['Z_c'], ss['Z'])"
   ]
  },
  {
   "cell_type": "code",
   "execution_count": 15,
   "id": "caef2a6e",
   "metadata": {},
   "outputs": [
    {
     "data": {
      "image/png": "[encoded data removed]",
      "text/plain": [
       "<Figure size 432x288 with 1 Axes>"
      ]
     },
     "metadata": {
      "needs_background": "light"
     },
     "output_type": "display_data"
    }
   ],
   "source": [
    "plt.plot(x['A'], rvec*100, label='Total wealth')\n",
    "plt.plot(x['K_D']+x['K_c'], rvec*100, label='Public and private capital')\n",
    "plt.legend()\n",
    "plt.ylabel('Interest rate'), plt.xlabel('Wealth')\n",
    "plt.show()"
   ]
  },
  {
   "cell_type": "code",
   "execution_count": null,
   "id": "e9f898ae",
   "metadata": {},
   "outputs": [],
   "source": []
  }
 ],
 "metadata": {
  "kernelspec": {
   "display_name": "Python 3 (ipykernel)",
   "language": "python",
   "name": "python3"
  },
  "language_info": {
   "codemirror_mode": {
    "name": "ipython",
    "version": 3
   },
   "file_extension": ".py",
   "mimetype": "text/x-python",
   "name": "python",
   "nbconvert_exporter": "python",
   "pygments_lexer": "ipython3",
   "version": "3.9.7"
  }
 },
 "nbformat": 4,
 "nbformat_minor": 5
}
